{
 "cells": [
  {
   "cell_type": "code",
   "execution_count": 1,
   "metadata": {
    "collapsed": true
   },
   "outputs": [],
   "source": [
    "import pandas as pd\n",
    "from pandas.io.json import json_normalize\n",
    "from yahoo_fantasy_sports import YahooFantasySports"
   ]
  },
  {
   "cell_type": "code",
   "execution_count": 2,
   "metadata": {
    "collapsed": false
   },
   "outputs": [
    {
     "name": "stdout",
     "output_type": "stream",
     "text": [
      "Enter code: 2uyk6y\n"
     ]
    }
   ],
   "source": [
    "credentials_file = 'oauth.json'\n",
    "yfs = YahooFantasySports(credentials_file)"
   ]
  },
  {
   "cell_type": "code",
   "execution_count": 3,
   "metadata": {
    "collapsed": true
   },
   "outputs": [],
   "source": [
    "# league settings summary\n",
    "url = 'http://fantasysports.yahooapis.com/fantasy/v2/leagues;league_keys=nfl.l.591106'"
   ]
  },
  {
   "cell_type": "code",
   "execution_count": 4,
   "metadata": {
    "collapsed": true
   },
   "outputs": [],
   "source": [
    "# league settings detail\n",
    "url = 'https://fantasysports.yahooapis.com/fantasy/v2/league/nfl.l.591106/settings'"
   ]
  },
  {
   "cell_type": "code",
   "execution_count": 5,
   "metadata": {
    "collapsed": false
   },
   "outputs": [
    {
     "data": {
      "text/plain": [
       "200"
      ]
     },
     "execution_count": 5,
     "metadata": {},
     "output_type": "execute_result"
    }
   ],
   "source": [
    "r = yfs.session.get(url, params={'format': 'json'})\n",
    "r.status_code"
   ]
  },
  {
   "cell_type": "code",
   "execution_count": 6,
   "metadata": {
    "collapsed": false
   },
   "outputs": [
    {
     "data": {
      "text/plain": [
       "1"
      ]
     },
     "execution_count": 6,
     "metadata": {},
     "output_type": "execute_result"
    }
   ],
   "source": [
    "# PPR enabled\n",
    "ppr_enabled = int(r.json()['fantasy_content']['league'][1]\n",
    "                  ['settings'][0]['stat_categories']\n",
    "                  ['stats'][7]['stat']['enabled'])\n",
    "\n",
    "ppr_enabled"
   ]
  },
  {
   "cell_type": "code",
   "execution_count": 7,
   "metadata": {
    "collapsed": false
   },
   "outputs": [
    {
     "data": {
      "text/plain": [
       "1"
      ]
     },
     "execution_count": 7,
     "metadata": {},
     "output_type": "execute_result"
    }
   ],
   "source": [
    "# PPR value\n",
    "ppr_value = int(r.json()['fantasy_content']['league'][1]\n",
    "                ['settings'][0]['stat_modifiers']\n",
    "                ['stats'][5]['stat']['value'])\n",
    "\n",
    "ppr_value"
   ]
  },
  {
   "cell_type": "code",
   "execution_count": 8,
   "metadata": {
    "collapsed": false
   },
   "outputs": [],
   "source": [
    "# function that structures json player data in a dataframe\n",
    "\n",
    "def clean_player_data(players):\n",
    "    # create a list of all player dataframes\n",
    "    player_list = []\n",
    "\n",
    "    # loop through all players in the json response\n",
    "    for i in range(len(players)):\n",
    "        index = str(i)\n",
    "        try:\n",
    "            # create a list of all player attributes\n",
    "            player_data = []\n",
    "            for attribute in players[index]['player'][0]:\n",
    "                try:\n",
    "                    player_data.append(json_normalize(attribute))\n",
    "                except:\n",
    "                    continue\n",
    "                    \n",
    "            # total points is at a different path which is why it is not included in the for loop above\n",
    "            total_points = float(players[index]['player'][1]['player_points']['total'])\n",
    "            player_data.append(json_normalize({'total_points':total_points}))\n",
    "\n",
    "            # add one row with current player's data to a list\n",
    "            player_list.append(pd.concat(player_data, axis=1))\n",
    "        except:\n",
    "            continue\n",
    "\n",
    "    # store all player data in one dataframe\n",
    "    df = pd.concat(player_list, ignore_index=True)\n",
    "    \n",
    "    return df"
   ]
  },
  {
   "cell_type": "code",
   "execution_count": 9,
   "metadata": {
    "collapsed": false
   },
   "outputs": [],
   "source": [
    "# available players in league\n",
    "league = 'nfl.l.591106'\n",
    "\n",
    "# can only query yahoo player api in chunks of 25\n",
    "chunks = []\n",
    "start = 0\n",
    "\n",
    "# get player data in chunks of 25 and then combine all chunks in one dataframe\n",
    "while start < 200:\n",
    "    l = ['https://fantasysports.yahooapis.com/fantasy/v2/league/', league,\n",
    "         '/players;sort=AR;sort_type=season;sort_season=2016;status=A;start=',\n",
    "         str(start), '/stats']\n",
    "    \n",
    "    url = ''.join(l)\n",
    "    \n",
    "    r = yfs.session.get(url, params={'format': 'json'})\n",
    "    \n",
    "    players = r.json()['fantasy_content']['league'][1]['players']\n",
    "    \n",
    "    chunks.append(clean_player_data(players))\n",
    "    \n",
    "    start += 25\n",
    "\n",
    "yahoo_data = pd.concat(chunks, ignore_index=True)\n",
    "yahoo_data['yahoo_rank'] = yahoo_data.index + 1"
   ]
  },
  {
   "cell_type": "code",
   "execution_count": 20,
   "metadata": {
    "collapsed": false
   },
   "outputs": [
    {
     "data": {
      "text/html": [
       "<div>\n",
       "<table border=\"1\" class=\"dataframe\">\n",
       "  <thead>\n",
       "    <tr style=\"text-align: right;\">\n",
       "      <th></th>\n",
       "      <th>display_position</th>\n",
       "      <th>name.full</th>\n",
       "      <th>status</th>\n",
       "      <th>total_points</th>\n",
       "      <th>yahoo_rank</th>\n",
       "    </tr>\n",
       "  </thead>\n",
       "  <tbody>\n",
       "    <tr>\n",
       "      <th>0</th>\n",
       "      <td>QB</td>\n",
       "      <td>Aaron Rodgers</td>\n",
       "      <td>NaN</td>\n",
       "      <td>0.0</td>\n",
       "      <td>1</td>\n",
       "    </tr>\n",
       "    <tr>\n",
       "      <th>1</th>\n",
       "      <td>QB</td>\n",
       "      <td>Matt Ryan</td>\n",
       "      <td>NaN</td>\n",
       "      <td>0.0</td>\n",
       "      <td>2</td>\n",
       "    </tr>\n",
       "    <tr>\n",
       "      <th>2</th>\n",
       "      <td>QB</td>\n",
       "      <td>Drew Brees</td>\n",
       "      <td>NaN</td>\n",
       "      <td>0.0</td>\n",
       "      <td>3</td>\n",
       "    </tr>\n",
       "    <tr>\n",
       "      <th>3</th>\n",
       "      <td>RB</td>\n",
       "      <td>David Johnson</td>\n",
       "      <td>NaN</td>\n",
       "      <td>0.0</td>\n",
       "      <td>4</td>\n",
       "    </tr>\n",
       "    <tr>\n",
       "      <th>4</th>\n",
       "      <td>QB</td>\n",
       "      <td>Andrew Luck</td>\n",
       "      <td>PUP-P</td>\n",
       "      <td>0.0</td>\n",
       "      <td>5</td>\n",
       "    </tr>\n",
       "  </tbody>\n",
       "</table>\n",
       "</div>"
      ],
      "text/plain": [
       "  display_position      name.full status  total_points  yahoo_rank\n",
       "0               QB  Aaron Rodgers    NaN           0.0           1\n",
       "1               QB      Matt Ryan    NaN           0.0           2\n",
       "2               QB     Drew Brees    NaN           0.0           3\n",
       "3               RB  David Johnson    NaN           0.0           4\n",
       "4               QB    Andrew Luck  PUP-P           0.0           5"
      ]
     },
     "execution_count": 20,
     "metadata": {},
     "output_type": "execute_result"
    }
   ],
   "source": [
    "# keep relevant columns of yahoo data\n",
    "cols = ['display_position', 'name.full', 'status', 'total_points', 'yahoo_rank']\n",
    "yahoo_data = yahoo_data[cols]\n",
    "\n",
    "yahoo_data.head()"
   ]
  },
  {
   "cell_type": "code",
   "execution_count": 11,
   "metadata": {
    "collapsed": false
   },
   "outputs": [
    {
     "data": {
      "text/html": [
       "<div>\n",
       "<table border=\"1\" class=\"dataframe\">\n",
       "  <thead>\n",
       "    <tr style=\"text-align: right;\">\n",
       "      <th></th>\n",
       "      <th>Rank</th>\n",
       "      <th>Player.Name</th>\n",
       "      <th>Tier</th>\n",
       "      <th>Position</th>\n",
       "      <th>Bye</th>\n",
       "      <th>Best</th>\n",
       "      <th>Worst</th>\n",
       "      <th>Avg.Rank</th>\n",
       "      <th>Std.Dev</th>\n",
       "      <th>ADP</th>\n",
       "      <th>vs..ADP</th>\n",
       "      <th>name.full</th>\n",
       "    </tr>\n",
       "  </thead>\n",
       "  <tbody>\n",
       "    <tr>\n",
       "      <th>0</th>\n",
       "      <td>1</td>\n",
       "      <td>David Johnson ARI</td>\n",
       "      <td>1</td>\n",
       "      <td>RB1</td>\n",
       "      <td>8</td>\n",
       "      <td>1</td>\n",
       "      <td>3</td>\n",
       "      <td>1.3</td>\n",
       "      <td>0.5</td>\n",
       "      <td>1</td>\n",
       "      <td>0</td>\n",
       "      <td>David Johnson</td>\n",
       "    </tr>\n",
       "    <tr>\n",
       "      <th>1</th>\n",
       "      <td>2</td>\n",
       "      <td>Le'Veon Bell PIT</td>\n",
       "      <td>1</td>\n",
       "      <td>RB2</td>\n",
       "      <td>9</td>\n",
       "      <td>1</td>\n",
       "      <td>2</td>\n",
       "      <td>1.7</td>\n",
       "      <td>0.5</td>\n",
       "      <td>2</td>\n",
       "      <td>0</td>\n",
       "      <td>Le'Veon Bell</td>\n",
       "    </tr>\n",
       "    <tr>\n",
       "      <th>2</th>\n",
       "      <td>3</td>\n",
       "      <td>Antonio Brown PIT</td>\n",
       "      <td>1</td>\n",
       "      <td>WR1</td>\n",
       "      <td>9</td>\n",
       "      <td>2</td>\n",
       "      <td>7</td>\n",
       "      <td>3.6</td>\n",
       "      <td>0.8</td>\n",
       "      <td>3</td>\n",
       "      <td>0</td>\n",
       "      <td>Antonio Brown</td>\n",
       "    </tr>\n",
       "    <tr>\n",
       "      <th>3</th>\n",
       "      <td>4</td>\n",
       "      <td>Odell Beckham Jr. NYG</td>\n",
       "      <td>1</td>\n",
       "      <td>WR2</td>\n",
       "      <td>8</td>\n",
       "      <td>3</td>\n",
       "      <td>13</td>\n",
       "      <td>5.5</td>\n",
       "      <td>1.7</td>\n",
       "      <td>6</td>\n",
       "      <td>2</td>\n",
       "      <td>Odell Beckham Jr.</td>\n",
       "    </tr>\n",
       "    <tr>\n",
       "      <th>4</th>\n",
       "      <td>5</td>\n",
       "      <td>LeSean McCoy BUF</td>\n",
       "      <td>1</td>\n",
       "      <td>RB3</td>\n",
       "      <td>6</td>\n",
       "      <td>3</td>\n",
       "      <td>13</td>\n",
       "      <td>6.0</td>\n",
       "      <td>2.5</td>\n",
       "      <td>7</td>\n",
       "      <td>2</td>\n",
       "      <td>LeSean McCoy</td>\n",
       "    </tr>\n",
       "  </tbody>\n",
       "</table>\n",
       "</div>"
      ],
      "text/plain": [
       "   Rank             Player.Name  Tier Position  Bye  Best  Worst  Avg.Rank  \\\n",
       "0     1      David Johnson ARI      1      RB1    8     1      3       1.3   \n",
       "1     2       Le'Veon Bell PIT      1      RB2    9     1      2       1.7   \n",
       "2     3      Antonio Brown PIT      1      WR1    9     2      7       3.6   \n",
       "3     4  Odell Beckham Jr. NYG      1      WR2    8     3     13       5.5   \n",
       "4     5       LeSean McCoy BUF      1      RB3    6     3     13       6.0   \n",
       "\n",
       "   Std.Dev  ADP  vs..ADP          name.full  \n",
       "0      0.5    1        0      David Johnson  \n",
       "1      0.5    2        0       Le'Veon Bell  \n",
       "2      0.8    3        0      Antonio Brown  \n",
       "3      1.7    6        2  Odell Beckham Jr.  \n",
       "4      2.5    7        2       LeSean McCoy  "
      ]
     },
     "execution_count": 11,
     "metadata": {},
     "output_type": "execute_result"
    }
   ],
   "source": [
    "# get boris chen data for PPR\n",
    "boris = 'https://docs.google.com/spreadsheets/d/1ZX8xNT6ObBw3v0p21YW7oOatZw1ZWLpwGuicC86aAeU/export'\n",
    "boris_data = pd.read_excel(boris, sheetname='PPR')\n",
    "\n",
    "name_split = boris_data['Player.Name'].str.rsplit(n=1, expand=True)\n",
    "name_split = name_split.rename(columns={0:'name.full', 1:'team'})\n",
    "\n",
    "boris_data['name.full'] = name_split['name.full']\n",
    "\n",
    "boris_data.head()"
   ]
  },
  {
   "cell_type": "code",
   "execution_count": 21,
   "metadata": {
    "collapsed": false
   },
   "outputs": [],
   "source": [
    "# final dataframe with yahoo and boris data combined\n",
    "data = pd.merge(yahoo_data, boris_data[['name.full', 'Rank', 'Tier']], on='name.full', how='left')"
   ]
  },
  {
   "cell_type": "code",
   "execution_count": 22,
   "metadata": {
    "collapsed": false
   },
   "outputs": [
    {
     "data": {
      "text/html": [
       "<div>\n",
       "<table border=\"1\" class=\"dataframe\">\n",
       "  <thead>\n",
       "    <tr style=\"text-align: right;\">\n",
       "      <th></th>\n",
       "      <th>display_position</th>\n",
       "      <th>name.full</th>\n",
       "      <th>status</th>\n",
       "      <th>total_points</th>\n",
       "      <th>yahoo_rank</th>\n",
       "      <th>Rank</th>\n",
       "      <th>Tier</th>\n",
       "    </tr>\n",
       "  </thead>\n",
       "  <tbody>\n",
       "    <tr>\n",
       "      <th>0</th>\n",
       "      <td>QB</td>\n",
       "      <td>Aaron Rodgers</td>\n",
       "      <td>NaN</td>\n",
       "      <td>0.0</td>\n",
       "      <td>1</td>\n",
       "      <td>30.0</td>\n",
       "      <td>5.0</td>\n",
       "    </tr>\n",
       "    <tr>\n",
       "      <th>1</th>\n",
       "      <td>QB</td>\n",
       "      <td>Matt Ryan</td>\n",
       "      <td>NaN</td>\n",
       "      <td>0.0</td>\n",
       "      <td>2</td>\n",
       "      <td>62.0</td>\n",
       "      <td>10.0</td>\n",
       "    </tr>\n",
       "    <tr>\n",
       "      <th>2</th>\n",
       "      <td>QB</td>\n",
       "      <td>Drew Brees</td>\n",
       "      <td>NaN</td>\n",
       "      <td>0.0</td>\n",
       "      <td>3</td>\n",
       "      <td>40.0</td>\n",
       "      <td>7.0</td>\n",
       "    </tr>\n",
       "    <tr>\n",
       "      <th>3</th>\n",
       "      <td>RB</td>\n",
       "      <td>David Johnson</td>\n",
       "      <td>NaN</td>\n",
       "      <td>0.0</td>\n",
       "      <td>4</td>\n",
       "      <td>1.0</td>\n",
       "      <td>1.0</td>\n",
       "    </tr>\n",
       "    <tr>\n",
       "      <th>4</th>\n",
       "      <td>QB</td>\n",
       "      <td>Andrew Luck</td>\n",
       "      <td>PUP-P</td>\n",
       "      <td>0.0</td>\n",
       "      <td>5</td>\n",
       "      <td>66.0</td>\n",
       "      <td>11.0</td>\n",
       "    </tr>\n",
       "  </tbody>\n",
       "</table>\n",
       "</div>"
      ],
      "text/plain": [
       "  display_position      name.full status  total_points  yahoo_rank  Rank  Tier\n",
       "0               QB  Aaron Rodgers    NaN           0.0           1  30.0   5.0\n",
       "1               QB      Matt Ryan    NaN           0.0           2  62.0  10.0\n",
       "2               QB     Drew Brees    NaN           0.0           3  40.0   7.0\n",
       "3               RB  David Johnson    NaN           0.0           4   1.0   1.0\n",
       "4               QB    Andrew Luck  PUP-P           0.0           5  66.0  11.0"
      ]
     },
     "execution_count": 22,
     "metadata": {},
     "output_type": "execute_result"
    }
   ],
   "source": [
    "data.head()"
   ]
  },
  {
   "cell_type": "code",
   "execution_count": 23,
   "metadata": {
    "collapsed": false
   },
   "outputs": [
    {
     "data": {
      "text/html": [
       "<div>\n",
       "<table border=\"1\" class=\"dataframe\">\n",
       "  <thead>\n",
       "    <tr style=\"text-align: right;\">\n",
       "      <th></th>\n",
       "      <th>display_position</th>\n",
       "      <th>name.full</th>\n",
       "      <th>status</th>\n",
       "      <th>total_points</th>\n",
       "      <th>yahoo_rank</th>\n",
       "      <th>Rank</th>\n",
       "      <th>Tier</th>\n",
       "    </tr>\n",
       "  </thead>\n",
       "  <tbody>\n",
       "    <tr>\n",
       "      <th>3</th>\n",
       "      <td>RB</td>\n",
       "      <td>David Johnson</td>\n",
       "      <td>NaN</td>\n",
       "      <td>0.0</td>\n",
       "      <td>4</td>\n",
       "      <td>1.0</td>\n",
       "      <td>1.0</td>\n",
       "    </tr>\n",
       "    <tr>\n",
       "      <th>11</th>\n",
       "      <td>RB</td>\n",
       "      <td>Le'Veon Bell</td>\n",
       "      <td>Q</td>\n",
       "      <td>0.0</td>\n",
       "      <td>12</td>\n",
       "      <td>2.0</td>\n",
       "      <td>1.0</td>\n",
       "    </tr>\n",
       "    <tr>\n",
       "      <th>18</th>\n",
       "      <td>WR</td>\n",
       "      <td>Antonio Brown</td>\n",
       "      <td>NaN</td>\n",
       "      <td>0.0</td>\n",
       "      <td>19</td>\n",
       "      <td>3.0</td>\n",
       "      <td>1.0</td>\n",
       "    </tr>\n",
       "    <tr>\n",
       "      <th>22</th>\n",
       "      <td>WR</td>\n",
       "      <td>Odell Beckham Jr.</td>\n",
       "      <td>NaN</td>\n",
       "      <td>0.0</td>\n",
       "      <td>23</td>\n",
       "      <td>4.0</td>\n",
       "      <td>1.0</td>\n",
       "    </tr>\n",
       "    <tr>\n",
       "      <th>23</th>\n",
       "      <td>RB</td>\n",
       "      <td>LeSean McCoy</td>\n",
       "      <td>NaN</td>\n",
       "      <td>0.0</td>\n",
       "      <td>24</td>\n",
       "      <td>5.0</td>\n",
       "      <td>1.0</td>\n",
       "    </tr>\n",
       "    <tr>\n",
       "      <th>32</th>\n",
       "      <td>WR</td>\n",
       "      <td>Julio Jones</td>\n",
       "      <td>NaN</td>\n",
       "      <td>0.0</td>\n",
       "      <td>33</td>\n",
       "      <td>6.0</td>\n",
       "      <td>1.0</td>\n",
       "    </tr>\n",
       "  </tbody>\n",
       "</table>\n",
       "</div>"
      ],
      "text/plain": [
       "   display_position          name.full status  total_points  yahoo_rank  Rank  \\\n",
       "3                RB      David Johnson    NaN           0.0           4   1.0   \n",
       "11               RB       Le'Veon Bell      Q           0.0          12   2.0   \n",
       "18               WR      Antonio Brown    NaN           0.0          19   3.0   \n",
       "22               WR  Odell Beckham Jr.    NaN           0.0          23   4.0   \n",
       "23               RB       LeSean McCoy    NaN           0.0          24   5.0   \n",
       "32               WR        Julio Jones    NaN           0.0          33   6.0   \n",
       "\n",
       "    Tier  \n",
       "3    1.0  \n",
       "11   1.0  \n",
       "18   1.0  \n",
       "22   1.0  \n",
       "23   1.0  \n",
       "32   1.0  "
      ]
     },
     "execution_count": 23,
     "metadata": {},
     "output_type": "execute_result"
    }
   ],
   "source": [
    "data[data['Tier'] == 1]"
   ]
  },
  {
   "cell_type": "code",
   "execution_count": null,
   "metadata": {
    "collapsed": true
   },
   "outputs": [],
   "source": []
  }
 ],
 "metadata": {
  "anaconda-cloud": {},
  "kernelspec": {
   "display_name": "Python [Root]",
   "language": "python",
   "name": "Python [Root]"
  },
  "language_info": {
   "codemirror_mode": {
    "name": "ipython",
    "version": 3
   },
   "file_extension": ".py",
   "mimetype": "text/x-python",
   "name": "python",
   "nbconvert_exporter": "python",
   "pygments_lexer": "ipython3",
   "version": "3.5.2"
  }
 },
 "nbformat": 4,
 "nbformat_minor": 2
}
