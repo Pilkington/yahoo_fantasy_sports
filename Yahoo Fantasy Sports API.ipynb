{
 "cells": [
  {
   "cell_type": "markdown",
   "metadata": {},
   "source": [
    "I've been playing Fantasy Football on Yahoo for a few years and have been itching to enhance my experience with data-driven decisions. This is the year. The first thing I am doing is plugging into the Yahoo Fantasy Sports API an seeing what I can do.\n",
    "\n",
    "The first step in this process is to create an app with Yahoo. Creating an app provides a unique consumer key and a consumer secret. With the unique consumer key and consumer secret, Yahoo is able to provide access to protected resources. Apps can be created at the following link: https://developer.yahoo.com/apps/\n",
    "\n",
    "In this post, I'll walk through how I connected to the Yahoo Fantasy Sports API using Python. I'll also start putting together a module for this project. It turns out that the initial setup proved to be more difficult than expected. However, I came across across the following two repos that helped:\n",
    "\n",
    "https://github.com/dkempiners/python-yahooapi/\n",
    "\n",
    "https://github.com/josuebrunel/yahoo-oauth\n",
    "\n",
    "Both repos provided their solutions but they did not fit what I wanted. I decided to create my own way of authenticating and querying the api, leveraging some of the work done in the repos."
   ]
  },
  {
   "cell_type": "code",
   "execution_count": 1,
   "metadata": {
    "collapsed": false
   },
   "outputs": [],
   "source": [
    "import json\n",
    "import time\n",
    "import webbrowser\n",
    "import pandas as pd\n",
    "from pandas.io.json import json_normalize\n",
    "from rauth import OAuth1Service\n",
    "from rauth.utils import parse_utf8_qsl"
   ]
  },
  {
   "cell_type": "markdown",
   "metadata": {},
   "source": [
    "### Load Credentials\n",
    "Load a json file which has my consumer key and consumer secret."
   ]
  },
  {
   "cell_type": "code",
   "execution_count": 2,
   "metadata": {
    "collapsed": true
   },
   "outputs": [],
   "source": [
    "credentials_file = open('oauth.json')\n",
    "credentials = json.load(credentials_file)\n",
    "credentials_file.close()"
   ]
  },
  {
   "cell_type": "markdown",
   "metadata": {},
   "source": [
    "### Create OAuth Object\n",
    "OAuth object is used for the three-legged authentication required by the Yahoo API."
   ]
  },
  {
   "cell_type": "code",
   "execution_count": 3,
   "metadata": {
    "collapsed": false
   },
   "outputs": [],
   "source": [
    "oauth = OAuth1Service(consumer_key = credentials['consumer_key'],\n",
    "                      consumer_secret = credentials['consumer_secret'],\n",
    "                      name = \"yahoo\",\n",
    "                      request_token_url = \"https://api.login.yahoo.com/oauth/v2/get_request_token\",\n",
    "                      access_token_url = \"https://api.login.yahoo.com/oauth/v2/get_token\",\n",
    "                      authorize_url = \"https://api.login.yahoo.com/oauth/v2/request_auth\",\n",
    "                      base_url = \"http://fantasysports.yahooapis.com/\")"
   ]
  },
  {
   "cell_type": "markdown",
   "metadata": {},
   "source": [
    "### Leg 1\n",
    "Obtain a request token which identifies you as the consumer."
   ]
  },
  {
   "cell_type": "code",
   "execution_count": 4,
   "metadata": {
    "collapsed": false
   },
   "outputs": [],
   "source": [
    "request_token, request_token_secret = oauth.get_request_token(params={\"oauth_callback\": \"oob\"})"
   ]
  },
  {
   "cell_type": "markdown",
   "metadata": {},
   "source": [
    "### Leg 2\n",
    "Obtain authorization to access protected resources. We do this by generating the auth url, opening it in our default web browser, and entering the verification code displayed."
   ]
  },
  {
   "cell_type": "code",
   "execution_count": 5,
   "metadata": {
    "collapsed": false
   },
   "outputs": [
    {
     "name": "stdout",
     "output_type": "stream",
     "text": [
      "Enter code: k2pm8y\n"
     ]
    }
   ],
   "source": [
    "authorize_url = oauth.get_authorize_url(request_token)\n",
    "webbrowser.open(authorize_url)\n",
    "verify = input('Enter code: ')"
   ]
  },
  {
   "cell_type": "markdown",
   "metadata": {},
   "source": [
    "### Leg 3\n",
    "Obtain access tokens. Tokens expire after 3600 seconds (60 minutes) so we'd like to save the time these tokens were generated. This time can be used later to check against and refresh the tokens if necessary. Next, we'll also save the tokens in our credentials dictionary and create a tuple that is used in the creation of a session."
   ]
  },
  {
   "cell_type": "code",
   "execution_count": 6,
   "metadata": {
    "collapsed": false
   },
   "outputs": [],
   "source": [
    "raw_access = oauth.get_raw_access_token(request_token,\n",
    "                                        request_token_secret,\n",
    "                                        params={\"oauth_verifier\": verify})\n",
    "\n",
    "parsed_access_token = parse_utf8_qsl(raw_access.content)\n",
    "access_token = (parsed_access_token['oauth_token'], parsed_access_token['oauth_token_secret'])\n",
    "\n",
    "start_time = time.time()\n",
    "end_time = start_time + 3600\n",
    "\n",
    "credentials['access_token'] = parsed_access_token['oauth_token']\n",
    "credentials['access_token_secret'] = parsed_access_token['oauth_token_secret']\n",
    "tokens = (credentials['access_token'], credentials['access_token_secret'])"
   ]
  },
  {
   "cell_type": "markdown",
   "metadata": {},
   "source": [
    "### Start a session"
   ]
  },
  {
   "cell_type": "code",
   "execution_count": 7,
   "metadata": {
    "collapsed": false
   },
   "outputs": [],
   "source": [
    "s = oauth.get_session(tokens)"
   ]
  },
  {
   "cell_type": "markdown",
   "metadata": {},
   "source": [
    "### Send a query\n",
    "Query the api and receive output in json format. The [Yahoo Fantasy Sports API guide](https://developer.yahoo.com/fantasysports/guide/) explains how queries are created. "
   ]
  },
  {
   "cell_type": "code",
   "execution_count": 8,
   "metadata": {
    "collapsed": false
   },
   "outputs": [
    {
     "data": {
      "text/plain": [
       "200"
      ]
     },
     "execution_count": 8,
     "metadata": {},
     "output_type": "execute_result"
    }
   ],
   "source": [
    "url = 'http://fantasysports.yahooapis.com/fantasy/v2/leagues;league_keys=nfl.l.427049'\n",
    "r = s.get(url, params={'format': 'json'})\n",
    "r.status_code"
   ]
  },
  {
   "cell_type": "markdown",
   "metadata": {},
   "source": [
    "### JSON output"
   ]
  },
  {
   "cell_type": "code",
   "execution_count": 9,
   "metadata": {
    "collapsed": false
   },
   "outputs": [
    {
     "data": {
      "text/plain": [
       "{'fantasy_content': {'copyright': 'Data provided by Yahoo! and STATS, LLC',\n",
       "  'leagues': {'0': {'league': [{'allow_add_to_dl_extra_pos': 0,\n",
       "      'current_week': '16',\n",
       "      'draft_status': 'postdraft',\n",
       "      'edit_key': '17',\n",
       "      'end_date': '2016-12-26',\n",
       "      'end_week': '16',\n",
       "      'game_code': 'nfl',\n",
       "      'is_cash_league': '0',\n",
       "      'is_finished': 1,\n",
       "      'is_pro_league': '0',\n",
       "      'league_id': '427049',\n",
       "      'league_key': '359.l.427049',\n",
       "      'league_type': 'private',\n",
       "      'league_update_timestamp': '1483604946',\n",
       "      'name': '#TFTI 2.0',\n",
       "      'num_teams': 12,\n",
       "      'renew': '348_473481',\n",
       "      'renewed': '',\n",
       "      'scoring_type': 'head',\n",
       "      'season': '2016',\n",
       "      'short_invitation_url': 'https://yho.com/nfl?l=427049&ikey=40f621140eb68802',\n",
       "      'start_date': '2016-09-08',\n",
       "      'start_week': '1',\n",
       "      'url': 'https://football.fantasysports.yahoo.com/f1/427049',\n",
       "      'weekly_deadline': ''}]},\n",
       "   'count': 1},\n",
       "  'refresh_rate': '60',\n",
       "  'time': '90.903997421265ms',\n",
       "  'xml:lang': 'en-US',\n",
       "  'yahoo:uri': '/fantasy/v2/leagues;league_keys=nfl.l.427049'}}"
      ]
     },
     "execution_count": 9,
     "metadata": {},
     "output_type": "execute_result"
    }
   ],
   "source": [
    "r.json()"
   ]
  },
  {
   "cell_type": "markdown",
   "metadata": {},
   "source": [
    "### Pandas DataFrame\n",
    "Convert the json output to a pandas dataframe."
   ]
  },
  {
   "cell_type": "code",
   "execution_count": 10,
   "metadata": {
    "collapsed": false
   },
   "outputs": [
    {
     "data": {
      "text/html": [
       "<div>\n",
       "<table border=\"1\" class=\"dataframe\">\n",
       "  <thead>\n",
       "    <tr style=\"text-align: right;\">\n",
       "      <th></th>\n",
       "      <th>allow_add_to_dl_extra_pos</th>\n",
       "      <th>current_week</th>\n",
       "      <th>draft_status</th>\n",
       "      <th>edit_key</th>\n",
       "      <th>end_date</th>\n",
       "      <th>end_week</th>\n",
       "      <th>game_code</th>\n",
       "      <th>is_cash_league</th>\n",
       "      <th>is_finished</th>\n",
       "      <th>is_pro_league</th>\n",
       "      <th>...</th>\n",
       "      <th>num_teams</th>\n",
       "      <th>renew</th>\n",
       "      <th>renewed</th>\n",
       "      <th>scoring_type</th>\n",
       "      <th>season</th>\n",
       "      <th>short_invitation_url</th>\n",
       "      <th>start_date</th>\n",
       "      <th>start_week</th>\n",
       "      <th>url</th>\n",
       "      <th>weekly_deadline</th>\n",
       "    </tr>\n",
       "  </thead>\n",
       "  <tbody>\n",
       "    <tr>\n",
       "      <th>0</th>\n",
       "      <td>0</td>\n",
       "      <td>16</td>\n",
       "      <td>postdraft</td>\n",
       "      <td>17</td>\n",
       "      <td>2016-12-26</td>\n",
       "      <td>16</td>\n",
       "      <td>nfl</td>\n",
       "      <td>0</td>\n",
       "      <td>1</td>\n",
       "      <td>0</td>\n",
       "      <td>...</td>\n",
       "      <td>12</td>\n",
       "      <td>348_473481</td>\n",
       "      <td></td>\n",
       "      <td>head</td>\n",
       "      <td>2016</td>\n",
       "      <td>https://yho.com/nfl?l=427049&amp;ikey=40f621140eb6...</td>\n",
       "      <td>2016-09-08</td>\n",
       "      <td>1</td>\n",
       "      <td>https://football.fantasysports.yahoo.com/f1/42...</td>\n",
       "      <td></td>\n",
       "    </tr>\n",
       "  </tbody>\n",
       "</table>\n",
       "<p>1 rows × 25 columns</p>\n",
       "</div>"
      ],
      "text/plain": [
       "   allow_add_to_dl_extra_pos current_week draft_status edit_key    end_date  \\\n",
       "0                          0           16    postdraft       17  2016-12-26   \n",
       "\n",
       "  end_week game_code is_cash_league  is_finished is_pro_league  \\\n",
       "0       16       nfl              0            1             0   \n",
       "\n",
       "        ...       num_teams       renew renewed scoring_type season  \\\n",
       "0       ...              12  348_473481                 head   2016   \n",
       "\n",
       "                                short_invitation_url  start_date start_week  \\\n",
       "0  https://yho.com/nfl?l=427049&ikey=40f621140eb6...  2016-09-08          1   \n",
       "\n",
       "                                                 url weekly_deadline  \n",
       "0  https://football.fantasysports.yahoo.com/f1/42...                  \n",
       "\n",
       "[1 rows x 25 columns]"
      ]
     },
     "execution_count": 10,
     "metadata": {},
     "output_type": "execute_result"
    }
   ],
   "source": [
    "data = json_normalize(r.json(), [['fantasy_content', 'leagues', '0', 'league']])\n",
    "data"
   ]
  },
  {
   "cell_type": "code",
   "execution_count": 11,
   "metadata": {
    "collapsed": false
   },
   "outputs": [
    {
     "data": {
      "text/html": [
       "<div>\n",
       "<table border=\"1\" class=\"dataframe\">\n",
       "  <thead>\n",
       "    <tr style=\"text-align: right;\">\n",
       "      <th></th>\n",
       "      <th>0</th>\n",
       "    </tr>\n",
       "  </thead>\n",
       "  <tbody>\n",
       "    <tr>\n",
       "      <th>allow_add_to_dl_extra_pos</th>\n",
       "      <td>0</td>\n",
       "    </tr>\n",
       "    <tr>\n",
       "      <th>current_week</th>\n",
       "      <td>16</td>\n",
       "    </tr>\n",
       "    <tr>\n",
       "      <th>draft_status</th>\n",
       "      <td>postdraft</td>\n",
       "    </tr>\n",
       "    <tr>\n",
       "      <th>edit_key</th>\n",
       "      <td>17</td>\n",
       "    </tr>\n",
       "    <tr>\n",
       "      <th>end_date</th>\n",
       "      <td>2016-12-26</td>\n",
       "    </tr>\n",
       "    <tr>\n",
       "      <th>end_week</th>\n",
       "      <td>16</td>\n",
       "    </tr>\n",
       "    <tr>\n",
       "      <th>game_code</th>\n",
       "      <td>nfl</td>\n",
       "    </tr>\n",
       "    <tr>\n",
       "      <th>is_cash_league</th>\n",
       "      <td>0</td>\n",
       "    </tr>\n",
       "    <tr>\n",
       "      <th>is_finished</th>\n",
       "      <td>1</td>\n",
       "    </tr>\n",
       "    <tr>\n",
       "      <th>is_pro_league</th>\n",
       "      <td>0</td>\n",
       "    </tr>\n",
       "    <tr>\n",
       "      <th>league_id</th>\n",
       "      <td>427049</td>\n",
       "    </tr>\n",
       "    <tr>\n",
       "      <th>league_key</th>\n",
       "      <td>359.l.427049</td>\n",
       "    </tr>\n",
       "    <tr>\n",
       "      <th>league_type</th>\n",
       "      <td>private</td>\n",
       "    </tr>\n",
       "    <tr>\n",
       "      <th>league_update_timestamp</th>\n",
       "      <td>1483604946</td>\n",
       "    </tr>\n",
       "    <tr>\n",
       "      <th>name</th>\n",
       "      <td>#TFTI 2.0</td>\n",
       "    </tr>\n",
       "    <tr>\n",
       "      <th>num_teams</th>\n",
       "      <td>12</td>\n",
       "    </tr>\n",
       "    <tr>\n",
       "      <th>renew</th>\n",
       "      <td>348_473481</td>\n",
       "    </tr>\n",
       "    <tr>\n",
       "      <th>renewed</th>\n",
       "      <td></td>\n",
       "    </tr>\n",
       "    <tr>\n",
       "      <th>scoring_type</th>\n",
       "      <td>head</td>\n",
       "    </tr>\n",
       "    <tr>\n",
       "      <th>season</th>\n",
       "      <td>2016</td>\n",
       "    </tr>\n",
       "    <tr>\n",
       "      <th>short_invitation_url</th>\n",
       "      <td>https://yho.com/nfl?l=427049&amp;ikey=40f621140eb6...</td>\n",
       "    </tr>\n",
       "    <tr>\n",
       "      <th>start_date</th>\n",
       "      <td>2016-09-08</td>\n",
       "    </tr>\n",
       "    <tr>\n",
       "      <th>start_week</th>\n",
       "      <td>1</td>\n",
       "    </tr>\n",
       "    <tr>\n",
       "      <th>url</th>\n",
       "      <td>https://football.fantasysports.yahoo.com/f1/42...</td>\n",
       "    </tr>\n",
       "    <tr>\n",
       "      <th>weekly_deadline</th>\n",
       "      <td></td>\n",
       "    </tr>\n",
       "  </tbody>\n",
       "</table>\n",
       "</div>"
      ],
      "text/plain": [
       "                                                                           0\n",
       "allow_add_to_dl_extra_pos                                                  0\n",
       "current_week                                                              16\n",
       "draft_status                                                       postdraft\n",
       "edit_key                                                                  17\n",
       "end_date                                                          2016-12-26\n",
       "end_week                                                                  16\n",
       "game_code                                                                nfl\n",
       "is_cash_league                                                             0\n",
       "is_finished                                                                1\n",
       "is_pro_league                                                              0\n",
       "league_id                                                             427049\n",
       "league_key                                                      359.l.427049\n",
       "league_type                                                          private\n",
       "league_update_timestamp                                           1483604946\n",
       "name                                                               #TFTI 2.0\n",
       "num_teams                                                                 12\n",
       "renew                                                             348_473481\n",
       "renewed                                                                     \n",
       "scoring_type                                                            head\n",
       "season                                                                  2016\n",
       "short_invitation_url       https://yho.com/nfl?l=427049&ikey=40f621140eb6...\n",
       "start_date                                                        2016-09-08\n",
       "start_week                                                                 1\n",
       "url                        https://football.fantasysports.yahoo.com/f1/42...\n",
       "weekly_deadline                                                             "
      ]
     },
     "execution_count": 11,
     "metadata": {},
     "output_type": "execute_result"
    }
   ],
   "source": [
    "data.T"
   ]
  },
  {
   "cell_type": "markdown",
   "metadata": {},
   "source": [
    "### Refresh access tokens\n",
    "Access tokens expire after 3600 seconds. In order to send more queries after expiration, tokens must be refreshed. Luckily, we don't need to go through the full three-legged auth again."
   ]
  },
  {
   "cell_type": "code",
   "execution_count": 12,
   "metadata": {
    "collapsed": true
   },
   "outputs": [],
   "source": [
    "# Access tokens expire after 3,600 seconds (60 minutes). Refresh tokens and get a new session.\n",
    "tokens = oauth.get_access_token(parsed_access_token['oauth_token'],\n",
    "                                parsed_access_token['oauth_token_secret'],\n",
    "                                params={'oauth_session_handle':parsed_access_token['oauth_session_handle']}\n",
    "                               )\n",
    "credentials['access_token'] = tokens[0]\n",
    "credentials['access_token_secret'] = tokens[1]\n",
    "\n",
    "start_time = time.time()\n",
    "end_time = start_time + 3600\n",
    "\n",
    "s = oauth.get_session(tokens)"
   ]
  },
  {
   "cell_type": "code",
   "execution_count": 13,
   "metadata": {
    "collapsed": false
   },
   "outputs": [
    {
     "data": {
      "text/plain": [
       "200"
      ]
     },
     "execution_count": 13,
     "metadata": {},
     "output_type": "execute_result"
    }
   ],
   "source": [
    "r = s.get(url, params={'format': 'json'})\n",
    "r.status_code"
   ]
  },
  {
   "cell_type": "markdown",
   "metadata": {},
   "source": [
    "### Create a reusable class"
   ]
  },
  {
   "cell_type": "code",
   "execution_count": 14,
   "metadata": {
    "collapsed": false
   },
   "outputs": [],
   "source": [
    "class YahooFantasySports:\n",
    "    def __init__(self, credentials_file):\n",
    "        # load credentials\n",
    "        self.credentials_file = open(credentials_file)\n",
    "        self.credentials = json.load(self.credentials_file)   \n",
    "        self.credentials_file.close()\n",
    "    \n",
    "        # create oauth object\n",
    "        self.oauth = OAuth1Service(consumer_key = self.credentials['consumer_key'],\n",
    "                                   consumer_secret = self.credentials['consumer_secret'],\n",
    "                                   name = \"yahoo\",\n",
    "                                   request_token_url = \"https://api.login.yahoo.com/oauth/v2/get_request_token\",\n",
    "                                   access_token_url = \"https://api.login.yahoo.com/oauth/v2/get_token\",\n",
    "                                   authorize_url = \"https://api.login.yahoo.com/oauth/v2/request_auth\",\n",
    "                                   base_url = \"http://fantasysports.yahooapis.com/\")\n",
    "        # leg 1\n",
    "        request_token, request_token_secret = self.oauth.get_request_token(params={\"oauth_callback\": \"oob\"})\n",
    "        \n",
    "        # leg 2\n",
    "        authorize_url = self.oauth.get_authorize_url(request_token)\n",
    "        webbrowser.open(authorize_url)\n",
    "        verify = input('Enter code: ')\n",
    "\n",
    "        # leg 3\n",
    "        raw_access = self.oauth.get_raw_access_token(request_token,\n",
    "                                            request_token_secret,\n",
    "                                            params={\"oauth_verifier\": verify})\n",
    "\n",
    "        parsed_access_token = parse_utf8_qsl(raw_access.content)\n",
    "        access_token = (parsed_access_token['oauth_token'], parsed_access_token['oauth_token_secret'])\n",
    "\n",
    "        # log time\n",
    "        self.start_time = time.time()\n",
    "        self.end_time = self.start_time + 3600\n",
    "        \n",
    "        # store tokens\n",
    "        self.credentials['access_token'] = parsed_access_token['oauth_token']\n",
    "        self.credentials['access_token_secret'] = parsed_access_token['oauth_token_secret']\n",
    "        self.tokens = (self.credentials['access_token'], self.credentials['access_token_secret'])\n",
    "        \n",
    "        # start session\n",
    "        self.session = self.oauth.get_session(self.tokens)\n",
    "    \n",
    "    def refresh_tokens(self):\n",
    "        # refresh a session\n",
    "        self.tokens = self.oauth.get_access_token(parsed_access_token['oauth_token'],\n",
    "                                                  parsed_access_token['oauth_token_secret'],\n",
    "                                                  params={'oauth_session_handle':parsed_access_token['oauth_session_handle']}\n",
    "                                                 )\n",
    "        \n",
    "        # update stored tokens\n",
    "        self.credentials['access_token'] = self.tokens[0]\n",
    "        self.credentials['access_token_secret'] = self.tokens[1]\n",
    "\n",
    "        # update log time\n",
    "        self.start_time = time.time()\n",
    "        self.end_time = self.start_time + 3600\n",
    "        \n",
    "        # start a session with updated tokens\n",
    "        self.session = self.oauth.get_session(self.tokens)"
   ]
  },
  {
   "cell_type": "markdown",
   "metadata": {},
   "source": [
    "### Test the class\n",
    "Test the newly created class within the notebook."
   ]
  },
  {
   "cell_type": "code",
   "execution_count": 15,
   "metadata": {
    "collapsed": false
   },
   "outputs": [
    {
     "name": "stdout",
     "output_type": "stream",
     "text": [
      "Enter code: stryph\n"
     ]
    }
   ],
   "source": [
    "credentials_file = 'oauth.json'\n",
    "yfs = YahooFantasySports(credentials_file)"
   ]
  },
  {
   "cell_type": "code",
   "execution_count": 16,
   "metadata": {
    "collapsed": false
   },
   "outputs": [
    {
     "data": {
      "text/plain": [
       "200"
      ]
     },
     "execution_count": 16,
     "metadata": {},
     "output_type": "execute_result"
    }
   ],
   "source": [
    "r = yfs.session.get(url, params={'format': 'json'})\n",
    "r.status_code"
   ]
  },
  {
   "cell_type": "code",
   "execution_count": 17,
   "metadata": {
    "collapsed": false
   },
   "outputs": [
    {
     "data": {
      "text/plain": [
       "{'fantasy_content': {'copyright': 'Data provided by Yahoo! and STATS, LLC',\n",
       "  'leagues': {'0': {'league': [{'allow_add_to_dl_extra_pos': 0,\n",
       "      'current_week': '16',\n",
       "      'draft_status': 'postdraft',\n",
       "      'edit_key': '17',\n",
       "      'end_date': '2016-12-26',\n",
       "      'end_week': '16',\n",
       "      'game_code': 'nfl',\n",
       "      'is_cash_league': '0',\n",
       "      'is_finished': 1,\n",
       "      'is_pro_league': '0',\n",
       "      'league_id': '427049',\n",
       "      'league_key': '359.l.427049',\n",
       "      'league_type': 'private',\n",
       "      'league_update_timestamp': '1483604946',\n",
       "      'name': '#TFTI 2.0',\n",
       "      'num_teams': 12,\n",
       "      'renew': '348_473481',\n",
       "      'renewed': '',\n",
       "      'scoring_type': 'head',\n",
       "      'season': '2016',\n",
       "      'short_invitation_url': 'https://yho.com/nfl?l=427049&ikey=40f621140eb68802',\n",
       "      'start_date': '2016-09-08',\n",
       "      'start_week': '1',\n",
       "      'url': 'https://football.fantasysports.yahoo.com/f1/427049',\n",
       "      'weekly_deadline': ''}]},\n",
       "   'count': 1},\n",
       "  'refresh_rate': '60',\n",
       "  'time': '79.923152923584ms',\n",
       "  'xml:lang': 'en-US',\n",
       "  'yahoo:uri': '/fantasy/v2/leagues;league_keys=nfl.l.427049'}}"
      ]
     },
     "execution_count": 17,
     "metadata": {},
     "output_type": "execute_result"
    }
   ],
   "source": [
    "r.json()"
   ]
  },
  {
   "cell_type": "markdown",
   "metadata": {},
   "source": [
    "### Create a module\n",
    "Create a module with the created class. We'll add api queries to this module in the next post."
   ]
  },
  {
   "cell_type": "code",
   "execution_count": 18,
   "metadata": {
    "collapsed": true
   },
   "outputs": [],
   "source": [
    "from yahoo_fantasy_sports import YahooFantasySports as yfs_test"
   ]
  },
  {
   "cell_type": "code",
   "execution_count": 19,
   "metadata": {
    "collapsed": false
   },
   "outputs": [
    {
     "name": "stdout",
     "output_type": "stream",
     "text": [
      "Enter code: cgarzv\n"
     ]
    }
   ],
   "source": [
    "credentials_file = 'oauth.json'\n",
    "yfs2 = yfs_test(credentials_file)"
   ]
  },
  {
   "cell_type": "code",
   "execution_count": 20,
   "metadata": {
    "collapsed": false
   },
   "outputs": [
    {
     "data": {
      "text/plain": [
       "200"
      ]
     },
     "execution_count": 20,
     "metadata": {},
     "output_type": "execute_result"
    }
   ],
   "source": [
    "r2 = yfs2.session.get(url, params={'format': 'json'})\n",
    "r2.status_code"
   ]
  },
  {
   "cell_type": "code",
   "execution_count": 21,
   "metadata": {
    "collapsed": false
   },
   "outputs": [
    {
     "data": {
      "text/plain": [
       "{'fantasy_content': {'copyright': 'Data provided by Yahoo! and STATS, LLC',\n",
       "  'leagues': {'0': {'league': [{'allow_add_to_dl_extra_pos': 0,\n",
       "      'current_week': '16',\n",
       "      'draft_status': 'postdraft',\n",
       "      'edit_key': '17',\n",
       "      'end_date': '2016-12-26',\n",
       "      'end_week': '16',\n",
       "      'game_code': 'nfl',\n",
       "      'is_cash_league': '0',\n",
       "      'is_finished': 1,\n",
       "      'is_pro_league': '0',\n",
       "      'league_id': '427049',\n",
       "      'league_key': '359.l.427049',\n",
       "      'league_type': 'private',\n",
       "      'league_update_timestamp': '1483604946',\n",
       "      'name': '#TFTI 2.0',\n",
       "      'num_teams': 12,\n",
       "      'renew': '348_473481',\n",
       "      'renewed': '',\n",
       "      'scoring_type': 'head',\n",
       "      'season': '2016',\n",
       "      'short_invitation_url': 'https://yho.com/nfl?l=427049&ikey=40f621140eb68802',\n",
       "      'start_date': '2016-09-08',\n",
       "      'start_week': '1',\n",
       "      'url': 'https://football.fantasysports.yahoo.com/f1/427049',\n",
       "      'weekly_deadline': ''}]},\n",
       "   'count': 1},\n",
       "  'refresh_rate': '60',\n",
       "  'time': '105.51381111145ms',\n",
       "  'xml:lang': 'en-US',\n",
       "  'yahoo:uri': '/fantasy/v2/leagues;league_keys=nfl.l.427049'}}"
      ]
     },
     "execution_count": 21,
     "metadata": {},
     "output_type": "execute_result"
    }
   ],
   "source": [
    "r2.json()"
   ]
  }
 ],
 "metadata": {
  "anaconda-cloud": {},
  "kernelspec": {
   "display_name": "Python [Root]",
   "language": "python",
   "name": "Python [Root]"
  },
  "language_info": {
   "codemirror_mode": {
    "name": "ipython",
    "version": 3
   },
   "file_extension": ".py",
   "mimetype": "text/x-python",
   "name": "python",
   "nbconvert_exporter": "python",
   "pygments_lexer": "ipython3",
   "version": "3.5.2"
  }
 },
 "nbformat": 4,
 "nbformat_minor": 1
}
